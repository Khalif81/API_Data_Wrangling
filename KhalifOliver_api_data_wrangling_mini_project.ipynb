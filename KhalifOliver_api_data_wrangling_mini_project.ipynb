{
 "cells": [
  {
   "cell_type": "markdown",
   "metadata": {},
   "source": [
    "This exercise will require you to pull some data from the Qunadl API. Qaundl is currently the most widely used aggregator of financial market data."
   ]
  },
  {
   "cell_type": "markdown",
   "metadata": {},
   "source": [
    "As a first step, you will need to register a free account on the http://www.quandl.com website."
   ]
  },
  {
   "cell_type": "markdown",
   "metadata": {},
   "source": [
    "After you register, you will be provided with a unique API key, that you should store:"
   ]
  },
  {
   "cell_type": "code",
   "execution_count": 1,
   "metadata": {},
   "outputs": [],
   "source": [
    "# Store the API key as a string - according to PEP8, constants are always named in all upper case\n",
    "API_KEY = <>"
   ]
  },
  {
   "cell_type": "markdown",
   "metadata": {},
   "source": [
    "Qaundl has a large number of data sources, but, unfortunately, most of them require a Premium subscription. Still, there are also a good number of free datasets."
   ]
  },
  {
   "cell_type": "markdown",
   "metadata": {},
   "source": [
    "For this mini project, we will focus on equities data from the Frankfurt Stock Exhange (FSE), which is available for free. We'll try and analyze the stock prices of a company called Carl Zeiss Meditec, which manufactures tools for eye examinations, as well as medical lasers for laser eye surgery: https://www.zeiss.com/meditec/int/home.html. The company is listed under the stock ticker AFX_X."
   ]
  },
  {
   "cell_type": "markdown",
   "metadata": {},
   "source": [
    "You can find the detailed Quandl API instructions here: https://docs.quandl.com/docs/time-series"
   ]
  },
  {
   "cell_type": "markdown",
   "metadata": {},
   "source": [
    "While there is a dedicated Python package for connecting to the Quandl API, we would prefer that you use the *requests* package, which can be easily downloaded using *pip* or *conda*. You can find the documentation for the package here: http://docs.python-requests.org/en/master/ "
   ]
  },
  {
   "cell_type": "markdown",
   "metadata": {},
   "source": [
    "Finally, apart from the *requests* package, you are encouraged to not use any third party Python packages, such as *pandas*, and instead focus on what's available in the Python Standard Library (the *collections* module might come in handy: https://pymotw.com/3/collections/ ).\n",
    "Also, since you won't have access to DataFrames, you are encouraged to us Python's native data structures - preferably dictionaries, though some questions can also be answered using lists.\n",
    "You can read more on these data structures here: https://docs.python.org/3/tutorial/datastructures.html"
   ]
  },
  {
   "cell_type": "markdown",
   "metadata": {},
   "source": [
    "Keep in mind that the JSON responses you will be getting from the API map almost one-to-one to Python's dictionaries. Unfortunately, they can be very nested, so make sure you read up on indexing dictionaries in the documentation provided above."
   ]
  },
  {
   "cell_type": "code",
   "execution_count": 2,
   "metadata": {},
   "outputs": [],
   "source": [
    "# First, import the relevant modules\n",
    "import requests\n",
    "import json\n"
   ]
  },
  {
   "cell_type": "code",
   "execution_count": 3,
   "metadata": {},
   "outputs": [
    {
     "name": "stdout",
     "output_type": "stream",
     "text": [
      "{\"dataset\":{\"id\":10095370,\"dataset_code\":\"AFX_X\",\"database_code\":\"FSE\",\"name\":\"Carl Zeiss Meditec (AFX_X)\",\"description\":\"Stock Prices for Carl Zeiss Meditec (2020-11-02) from the Frankfurt Stock Exchange.\\u003cbr\\u003e\\u003cbr\\u003eTrading System: Xetra\\u003cbr\\u003e\\u003cbr\\u003eISIN: DE0005313704\",\"refreshed_at\":\"2020-12-01T14:48:09.907Z\",\"newest_available_date\":\"2020-12-01\",\"oldest_available_date\":\"2000-06-07\",\"column_names\":[\"Date\",\"Open\",\"High\",\"Low\",\"Close\",\"Change\",\"Traded Volume\",\"Turnover\",\"Last Price of the Day\",\"Daily Traded Units\",\"Daily Turnover\"],\"frequency\":\"daily\",\"type\":\"Time Series\",\"premium\":false,\"limit\":null,\"transform\":null,\"column_index\":null,\"start_date\":\"2017-11-17\",\"end_date\":\"2017-11-17\",\"data\":[[\"2017-11-17\",47.03,47.15,46.8,46.84,null,54107.0,2540820.0,null,null,null]],\"collapse\":null,\"order\":null,\"database_id\":6129}}\n"
     ]
    }
   ],
   "source": [
    "# Now, call the Quandl API and pull out a small sample of the data (only one day) to get a glimpse\n",
    "# into the JSON structure that will be returned\n",
    "\n",
    "url = 'https://www.quandl.com/api/v3/datasets/FSE/AFX_X?'\n",
    "p_meters = dict(key = API_KEY, start_date = '2017-11-17', end_date = '2017-11-17')\n",
    "\n",
    "quandl_test = requests.get(url, params = p_meters)\n",
    "print(quandl_test.text)"
   ]
  },
  {
   "cell_type": "code",
   "execution_count": 4,
   "metadata": {},
   "outputs": [],
   "source": [
    "# Inspect the JSON structure of the object you created, and take note of how nested it is,\n",
    "# as well as the overall structure\n",
    "\n",
    "#use dataset['data'] to access data based on ['column_names'] list\n",
    "#\"column_names\" list is [\"Date\",\"Open\",\"High\",\"Low\",\"Close\",\"Change\",\"Traded Volume\",\n",
    "#                        \"Turnover\",\"Last Price of the Day\",\"Daily Traded Units\",\"Daily Turnover\"]"
   ]
  },
  {
   "cell_type": "markdown",
   "metadata": {},
   "source": [
    "These are your tasks for this mini project:\n",
    "\n",
    "1. Collect data from the Franfurt Stock Exchange, for the ticker AFX_X, for the whole year 2017 (keep in mind that the date format is YYYY-MM-DD).\n",
    "2. Convert the returned JSON object into a Python dictionary.\n",
    "3. Calculate what the highest and lowest opening prices were for the stock in this period.\n",
    "4. What was the largest change in any one day (based on High and Low price)?\n",
    "5. What was the largest change between any two days (based on Closing Price)?\n",
    "6. What was the average daily trading volume during this year?\n",
    "7. (Optional) What was the median trading volume during this year. (Note: you may need to implement your own function for calculating the median.)"
   ]
  },
  {
   "cell_type": "code",
   "execution_count": 5,
   "metadata": {},
   "outputs": [],
   "source": [
    "afx_2017_params =  dict(key = API_KEY, start_date = '2017-01-01', end_date = '2017-12-31')\n",
    "r =  requests.get(url, params = afx_2017_params)"
   ]
  },
  {
   "cell_type": "code",
   "execution_count": 6,
   "metadata": {},
   "outputs": [
    {
     "name": "stdout",
     "output_type": "stream",
     "text": [
      "<class 'dict'>\n"
     ]
    }
   ],
   "source": [
    "afx_2017 = r.json()\n",
    "print(type(afx_2017))"
   ]
  },
  {
   "cell_type": "code",
   "execution_count": 7,
   "metadata": {},
   "outputs": [
    {
     "name": "stdout",
     "output_type": "stream",
     "text": [
      "dict_keys(['id', 'dataset_code', 'database_code', 'name', 'description', 'refreshed_at', 'newest_available_date', 'oldest_available_date', 'column_names', 'frequency', 'type', 'premium', 'limit', 'transform', 'column_index', 'start_date', 'end_date', 'data', 'collapse', 'order', 'database_id'])\n"
     ]
    }
   ],
   "source": [
    "print(afx_2017['dataset'].keys())"
   ]
  },
  {
   "cell_type": "code",
   "execution_count": 8,
   "metadata": {},
   "outputs": [
    {
     "name": "stdout",
     "output_type": "stream",
     "text": [
      "['Date', 'Open', 'High', 'Low', 'Close', 'Change', 'Traded Volume', 'Turnover', 'Last Price of the Day', 'Daily Traded Units', 'Daily Turnover']\n"
     ]
    }
   ],
   "source": [
    "print(afx_2017['dataset']['column_names'])"
   ]
  },
  {
   "cell_type": "code",
   "execution_count": 9,
   "metadata": {},
   "outputs": [
    {
     "name": "stdout",
     "output_type": "stream",
     "text": [
      "Open\n"
     ]
    }
   ],
   "source": [
    "print(afx_2017['dataset']['column_names'][1])"
   ]
  },
  {
   "cell_type": "code",
   "execution_count": 10,
   "metadata": {},
   "outputs": [
    {
     "name": "stdout",
     "output_type": "stream",
     "text": [
      "['2017-12-28', 51.65, 51.82, 51.43, 51.6, None, 40660.0, 2099024.0, None, None, None]\n"
     ]
    }
   ],
   "source": [
    "print(afx_2017['dataset']['data'][1])"
   ]
  },
  {
   "cell_type": "code",
   "execution_count": 11,
   "metadata": {},
   "outputs": [
    {
     "name": "stdout",
     "output_type": "stream",
     "text": [
      "51.65\n"
     ]
    }
   ],
   "source": [
    "print(afx_2017['dataset']['data'][1][1])"
   ]
  },
  {
   "cell_type": "code",
   "execution_count": 12,
   "metadata": {},
   "outputs": [
    {
     "name": "stdout",
     "output_type": "stream",
     "text": [
      "Highest opening price in 2017 was 53.11 on 2017-12-14.\n",
      "Lowest opening price in 2017 was 34.0 on 2017-01-24.\n",
      "\n",
      " Open\n",
      "255 \n",
      " 252\n"
     ]
    }
   ],
   "source": [
    "#initialise vars\n",
    "dates_2017 = len(afx_2017['dataset']['data'])  # 0 indexed\n",
    "open_2017 = []\n",
    "open_date = []\n",
    "count = 0\n",
    "count_valid = 0\n",
    "\n",
    "#make list of daily prices\n",
    "for k in range(dates_2017):\n",
    "    open_k = afx_2017['dataset']['data'][k][1]\n",
    "    date_k = afx_2017['dataset']['data'][k][0]\n",
    "    count += 1\n",
    "    if type(open_k) == float:  #initially some values were not floats -- skip those\n",
    "        count_valid +=1\n",
    "        open_2017.append(open_k)\n",
    "        open_date.append(date_k)\n",
    "\n",
    "#find highest open and date\n",
    "max_open_2017 = max(open_2017)\n",
    "max_open_date = open_date[open_2017.index(max_open_2017)]\n",
    "\n",
    "#find lowest open and date\n",
    "min_open_2017 = min(open_2017)\n",
    "min_open_date = open_date[open_2017.index(min_open_2017)]\n",
    "\n",
    "#present results\n",
    "print('Highest opening price in 2017 was {} on {}.'.format(max_open_2017, max_open_date))\n",
    "print('Lowest opening price in 2017 was {} on {}.'.format(min_open_2017, min_open_date))\n",
    "\n",
    "\n",
    "#doublecheck colum and number of dates considered\n",
    "print('\\n', afx_2017['dataset']['column_names'][1])\n",
    "print(count, '\\n', count_valid)\n",
    "\n"
   ]
  },
  {
   "cell_type": "code",
   "execution_count": 13,
   "metadata": {},
   "outputs": [
    {
     "name": "stdout",
     "output_type": "stream",
     "text": [
      "Largest change in price on a single day 2017 was 2.8100000000000023 on 2017-05-11.\n",
      "\n",
      " High\n",
      "Low\n",
      "255 \n",
      " 255\n"
     ]
    }
   ],
   "source": [
    "#initialise vars\n",
    "dates_2017 = len(afx_2017['dataset']['data'])  # 0 indexed\n",
    "change_2017 = []\n",
    "change_date = []\n",
    "count = 0\n",
    "count_valid = 0\n",
    "\n",
    "#make list of all daily ranges\n",
    "for k in range(dates_2017):\n",
    "    count += 1\n",
    "    if (type(afx_2017['dataset']['data'][k][2]) == float) & (type (afx_2017['dataset']['data'][k][3]) == float):\n",
    "        count_valid += 1\n",
    "        change_k = (afx_2017['dataset']['data'][k][2] - afx_2017['dataset']['data'][k][3])\n",
    "        date_k = afx_2017['dataset']['data'][k][0]\n",
    "        change_2017.append(change_k)\n",
    "        change_date.append(date_k) \n",
    "\n",
    "#capture max change    \n",
    "max_change_2017 = max(change_2017)\n",
    "max_change_date = change_date[change_2017.index(max_change_2017)]\n",
    "    \n",
    "#present results\n",
    "print('Largest change in price on a single day 2017 was {} on {}.'.format(max_change_2017, max_change_date))\n",
    "\n",
    "#doublecheck colum and number of dates considered\n",
    "print('\\n', afx_2017['dataset']['column_names'][2])\n",
    "print(afx_2017['dataset']['column_names'][3])\n",
    "print(count, '\\n', count_valid)\n",
    "\n",
    "\n",
    "    \n",
    "    \n"
   ]
  },
  {
   "cell_type": "code",
   "execution_count": 14,
   "metadata": {},
   "outputs": [
    {
     "name": "stdout",
     "output_type": "stream",
     "text": [
      "Largest change in closing price in 2017 from the previous day was 2.559999999999995 on 2017-08-08.\n",
      "\n",
      " Close\n",
      "254 \n",
      " 254\n"
     ]
    }
   ],
   "source": [
    "#initialise vars\n",
    "dates_2017 = len(afx_2017['dataset']['data'])  # 0 indexed\n",
    "close_change_2017 = []\n",
    "close_change_date = []\n",
    "count = 0\n",
    "count_valid = 0\n",
    "\n",
    "#make list of all daily change in close price\n",
    "for k in range(1,dates_2017):\n",
    "    count += 1\n",
    "    if (type(afx_2017['dataset']['data'][k][4]) == float) & (type (afx_2017['dataset']['data'][k-1][4]) == float):\n",
    "        count_valid += 1\n",
    "        close_change_k = (afx_2017['dataset']['data'][k][4] - afx_2017['dataset']['data'][k-1][4])\n",
    "        date_k = afx_2017['dataset']['data'][k][0]\n",
    "        close_change_2017.append(close_change_k)\n",
    "        close_change_date.append(date_k) \n",
    "\n",
    "#capture max change    \n",
    "max_close_change_2017 = max(close_change_2017)\n",
    "max_close_change_date = close_change_date[close_change_2017.index(max_close_change_2017)]\n",
    "    \n",
    "#present results\n",
    "print('Largest change in closing price in 2017 from the previous day was {} on {}.'.format(max_close_change_2017, \n",
    "                                                                                           max_close_change_date))\n",
    "\n",
    "\n",
    "#doublecheck colum and number of dates considered\n",
    "print('\\n',afx_2017['dataset']['column_names'][4])\n",
    "print(count, '\\n', count_valid)\n"
   ]
  },
  {
   "cell_type": "code",
   "execution_count": 15,
   "metadata": {},
   "outputs": [
    {
     "name": "stdout",
     "output_type": "stream",
     "text": [
      "Average trading volume in 2017 was 89124.33725490196.\n",
      "\n",
      " Traded Volume\n",
      "255 \n",
      " 255\n"
     ]
    }
   ],
   "source": [
    "#initialise vars\n",
    "dates_2017 = len(afx_2017['dataset']['data'])  # 0 indexed\n",
    "trades_2017 = []\n",
    "trades_date = []\n",
    "count = 0\n",
    "count_valid = 0\n",
    "\n",
    "#make list of all daily trading volumes\n",
    "for k in range(dates_2017):\n",
    "    trades_k = afx_2017['dataset']['data'][k][6]\n",
    "    date_k = afx_2017['dataset']['data'][k][0]\n",
    "    count += 1\n",
    "    if type(trades_k) == float:  #initially some values were not floats -- skip those\n",
    "        count_valid +=1\n",
    "        trades_2017.append(trades_k)\n",
    "        trades_date.append(date_k)\n",
    "\n",
    "\n",
    "#find average daily trades\n",
    "mean_trades_2017 = sum(trades_2017) / len(trades_2017)\n",
    "\n",
    "#present results\n",
    "print('Average trading volume in 2017 was {}.'.format(mean_trades_2017))\n",
    "\n",
    "\n",
    "#doublecheck colum and number of dates considered\n",
    "print('\\n', afx_2017['dataset']['column_names'][6])\n",
    "print(count, '\\n', count_valid)\n",
    "\n"
   ]
  },
  {
   "cell_type": "code",
   "execution_count": 16,
   "metadata": {},
   "outputs": [],
   "source": [
    "def median(k_list):\n",
    "    k_list.sort()\n",
    "    mid = len(k_list) / 2\n",
    "    if len(k_list) % 2 == 0:\n",
    "        median = (k_list[ int(mid) ] + k_list[ int(mid)-1 ]) / 2\n",
    "    else:\n",
    "        median = k_list[int(mid-.5)]\n",
    "    \n",
    "    return (median)\n",
    "    \n",
    "\n"
   ]
  },
  {
   "cell_type": "code",
   "execution_count": 17,
   "metadata": {},
   "outputs": [
    {
     "name": "stdout",
     "output_type": "stream",
     "text": [
      "Median trading volume in 2017 was 76286.0.\n"
     ]
    }
   ],
   "source": [
    "#find average daily trades\n",
    "median_trades_2017 = median(trades_2017)\n",
    "\n",
    "#present results\n",
    "print('Median trading volume in 2017 was {}.'.format(median_trades_2017))\n"
   ]
  }
 ],
 "metadata": {
  "kernelspec": {
   "display_name": "Python 3",
   "language": "python",
   "name": "python3"
  },
  "language_info": {
   "codemirror_mode": {
    "name": "ipython",
    "version": 3
   },
   "file_extension": ".py",
   "mimetype": "text/x-python",
   "name": "python",
   "nbconvert_exporter": "python",
   "pygments_lexer": "ipython3",
   "version": "3.8.5"
  }
 },
 "nbformat": 4,
 "nbformat_minor": 2
}
